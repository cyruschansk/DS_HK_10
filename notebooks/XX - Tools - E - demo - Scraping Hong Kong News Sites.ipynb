{
 "cells": [
  {
   "cell_type": "code",
   "execution_count": null,
   "metadata": {
    "collapsed": false,
    "slideshow": {
     "slide_type": "skip"
    }
   },
   "outputs": [],
   "source": [
    "# %load utils/imports.py\n",
    "import pandas as pd\n",
    "import cufflinks as cf\n",
    "cf.go_offline()\n",
    "\n",
    "import utils.styles"
   ]
  },
  {
   "cell_type": "markdown",
   "metadata": {
    "slideshow": {
     "slide_type": "slide"
    }
   },
   "source": [
    "# The Shape of Things to Come"
   ]
  },
  {
   "cell_type": "markdown",
   "metadata": {},
   "source": [
    "## Case Study : Word clouds for Hong Kong News Media"
   ]
  },
  {
   "cell_type": "markdown",
   "metadata": {},
   "source": [
    "#### Preamble - Sanity Check"
   ]
  },
  {
   "cell_type": "code",
   "execution_count": null,
   "metadata": {
    "collapsed": false
   },
   "outputs": [],
   "source": [
    "!pip install --upgrade wordcloud html2text"
   ]
  },
  {
   "cell_type": "code",
   "execution_count": null,
   "metadata": {
    "collapsed": false,
    "scrolled": false
   },
   "outputs": [],
   "source": [
    "!conda config --add channels spacy\n",
    "!conda install -y spacy\n",
    "!conda install -y pillow"
   ]
  },
  {
   "cell_type": "code",
   "execution_count": null,
   "metadata": {
    "collapsed": true
   },
   "outputs": [],
   "source": [
    "# IMPORTANT : RUN THIS IN AN JUPYTER TERMINAL, MAY TAKE 45 MINUTES TO COMPLETE\n",
    "%%bash\n",
    "python -m spacy.en.download"
   ]
  },
  {
   "cell_type": "code",
   "execution_count": null,
   "metadata": {
    "collapsed": false
   },
   "outputs": [],
   "source": [
    "# Check whether the install was succesful\n",
    "from sputnik.package_list import PackageNotFoundException\n",
    "try:\n",
    "    import spacy\n",
    "    spacy.load('en')\n",
    "    print('OK')\n",
    "except PackageNotFoundException:\n",
    "    print('Not OK - Please run \"python -m spacy.en.download\"')\n",
    "except RuntimeError:\n",
    "    print('Not OK - Please run \"python -m spacy.en.download\"')"
   ]
  },
  {
   "cell_type": "code",
   "execution_count": null,
   "metadata": {
    "collapsed": true
   },
   "outputs": [],
   "source": [
    "# Import necessary libraries\n",
    "import re\n",
    "import random\n",
    "import numpy as np\n",
    "from os import path\n",
    "from PIL import Image\n",
    "from html2text import html2text \n",
    "from wordcloud import WordCloud, STOPWORDS\n",
    "from spacy.en import English\n",
    "from spacy.attrs import ORTH"
   ]
  },
  {
   "cell_type": "markdown",
   "metadata": {},
   "source": [
    "#### Scraping"
   ]
  },
  {
   "cell_type": "markdown",
   "metadata": {},
   "source": [
    "Now that our dependencies are installed - let's scrape the HKFP's and SCMP's Hong Kong Section."
   ]
  },
  {
   "cell_type": "code",
   "execution_count": null,
   "metadata": {
    "collapsed": false
   },
   "outputs": [],
   "source": [
    "!wget -O - 'http://www.scmp.com/news/hong-kong' > assets/scmp.html\n",
    "!wget -O - 'https://www.hongkongfp.com/hong-kong-news/' > assets/hkfp.html"
   ]
  },
  {
   "cell_type": "markdown",
   "metadata": {},
   "source": [
    "#### NLP"
   ]
  },
  {
   "cell_type": "code",
   "execution_count": null,
   "metadata": {
    "collapsed": true
   },
   "outputs": [],
   "source": [
    "def clean_html(html):\n",
    "    \"\"\"\n",
    "    Copied from NLTK package.\n",
    "    Remove HTML markup from the given string.\n",
    "\n",
    "    :param html: the HTML string to be cleaned\n",
    "    :type html: str\n",
    "    :rtype: str\n",
    "    \"\"\"\n",
    "\n",
    "    # First we remove inline JavaScript/CSS:\n",
    "    cleaned = re.sub(r\"(?is)<(script|style).*?>.*?(</\\1>)\", \"\", html.strip())\n",
    "    # Then we remove html comments. This has to be done before removing regular\n",
    "    # tags since comments can contain '>' characters.\n",
    "    cleaned = re.sub(r\"(?s)<!--(.*?)-->[\\n]?\", \"\", cleaned)\n",
    "    # Next we can remove the remaining tags:\n",
    "    cleaned = re.sub(r\"(?s)<.*?>\", \" \", cleaned)\n",
    "    # Finally, we deal with whitespace\n",
    "    cleaned = re.sub(r\"&nbsp;\", \" \", cleaned)\n",
    "    cleaned = re.sub(r\"  \", \" \", cleaned)\n",
    "    cleaned = re.sub(r\"  \", \" \", cleaned)\n",
    "    return cleaned.strip()"
   ]
  },
  {
   "cell_type": "code",
   "execution_count": null,
   "metadata": {
    "collapsed": false,
    "scrolled": false
   },
   "outputs": [],
   "source": [
    "def html_to_word_count(html_asset):\n",
    "\n",
    "    # Read the whole text.\n",
    "    html = open(\"assets/{}.html\".format(html_asset),'r').read()\n",
    "\n",
    "    # Extract and clean the data\n",
    "    page = clean_html(html)\n",
    "    text = html2text(page)\n",
    "    \n",
    "    # Tokenize\n",
    "    nlp = English(parser=False)\n",
    "    tokens = nlp(text)\n",
    "\n",
    "    # Define Stopwords\n",
    "    sw = set(STOPWORDS)\n",
    "    sw.add(\"said\")\n",
    "    \n",
    "    # Count the words\n",
    "    word_freq = []\n",
    "    counts = tokens.count_by(ORTH)\n",
    "    \n",
    "    for word_id, count in counts.items():\n",
    "        token = nlp.vocab.strings[word_id]\n",
    "        if token.isalpha() and token.lower() not in sw:\n",
    "            word_freq.append((token,count)) \n",
    "    \n",
    "    return word_freq"
   ]
  },
  {
   "cell_type": "code",
   "execution_count": null,
   "metadata": {
    "collapsed": false
   },
   "outputs": [],
   "source": [
    "# Count the Word Frequencies\n",
    "hkfp_count = html_to_word_count('hkfp')\n",
    "hkfp_count[:5]"
   ]
  },
  {
   "cell_type": "code",
   "execution_count": null,
   "metadata": {
    "collapsed": false
   },
   "outputs": [],
   "source": [
    "# Count the Word Frequencies\n",
    "scmp_count = html_to_word_count('scmp')\n",
    "scmp_count[:5]"
   ]
  },
  {
   "cell_type": "code",
   "execution_count": null,
   "metadata": {
    "collapsed": false
   },
   "outputs": [],
   "source": [
    "def grey_color_func(word, font_size, position, orientation, random_state=None, **kwargs):\n",
    "    return \"hsl(0, 0%%, %d%%)\" % random.randint(60, 100)\n",
    "\n",
    "\n",
    "def hk_map_word_cloud(word_freq, asset_name):\n",
    "    # read the mask image\n",
    "    flag = Image.open(\"assets/flag.jpg\")\n",
    "    mask = np.array(flag)\n",
    "\n",
    "    wc = WordCloud(background_color=None,\n",
    "                   mask=mask,\n",
    "                   color_func=grey_color_func,\n",
    "                   mode=\"RGBA\",\n",
    "                   min_font_size=20)\n",
    "\n",
    "    # generate word cloud\n",
    "    wc.generate_from_frequencies(word_freq)\n",
    "    \n",
    "    # merge the two images\n",
    "    flag.paste(wc.to_image(), (0, 0), wc.to_image())\n",
    "\n",
    "    # store to file\n",
    "    wc.to_file(\"assets/{}_word_cloud.png\".format(asset_name));\n",
    "    \n",
    "    return flag"
   ]
  },
  {
   "cell_type": "markdown",
   "metadata": {},
   "source": [
    "#### Hong Kong Freep Press"
   ]
  },
  {
   "cell_type": "code",
   "execution_count": null,
   "metadata": {
    "collapsed": false
   },
   "outputs": [],
   "source": [
    "hk_map_word_cloud(hkfp_count, 'hkfp')"
   ]
  },
  {
   "cell_type": "markdown",
   "metadata": {},
   "source": [
    "#### South China Morning Post"
   ]
  },
  {
   "cell_type": "code",
   "execution_count": null,
   "metadata": {
    "collapsed": false
   },
   "outputs": [],
   "source": [
    "hk_map_word_cloud(scmp_count, 'scmp')"
   ]
  },
  {
   "cell_type": "markdown",
   "metadata": {},
   "source": [
    "### Let's look at the ratios"
   ]
  },
  {
   "cell_type": "code",
   "execution_count": null,
   "metadata": {
    "collapsed": false
   },
   "outputs": [],
   "source": [
    "import pandas as pd\n",
    "fp = pd.DataFrame(hkfp_count).set_index(0)\n",
    "mp = pd.DataFrame(scmp_count).set_index(0)"
   ]
  },
  {
   "cell_type": "code",
   "execution_count": null,
   "metadata": {
    "collapsed": false
   },
   "outputs": [],
   "source": [
    "def hk_word_ratio_cloud(f1,f2, asset_name):\n",
    "    f1_norm = 1 - (f1 - f1.max()) / (f1.min() - f1.max())\n",
    "    f2_norm = 1 - (f2 - f2.max()) / (f2.min() - f2.max())\n",
    "    \n",
    "    f_ratio = (f1_norm / f2_norm)\n",
    "    \n",
    "    f_ratio = f_ratio[f_ratio > 1]\n",
    "\n",
    "    f_ratio = f_ratio.replace([np.inf, -np.inf], np.nan)\n",
    "    xf = f_ratio[f_ratio[1].notnull()].reset_index().values\n",
    "\n",
    "    return hk_map_word_cloud(xf, asset_name)"
   ]
  },
  {
   "cell_type": "markdown",
   "metadata": {},
   "source": [
    "#### Hong Kong Freep Press"
   ]
  },
  {
   "cell_type": "code",
   "execution_count": null,
   "metadata": {
    "collapsed": false
   },
   "outputs": [],
   "source": [
    "hk_word_ratio_cloud(fp, mp,'xfp')"
   ]
  },
  {
   "cell_type": "markdown",
   "metadata": {},
   "source": [
    "#### South China Morning Post"
   ]
  },
  {
   "cell_type": "code",
   "execution_count": null,
   "metadata": {
    "collapsed": false
   },
   "outputs": [],
   "source": [
    "hk_word_ratio_cloud(mp, fp, 'xmp')"
   ]
  },
  {
   "cell_type": "markdown",
   "metadata": {},
   "source": [
    "## Case Study : Ping Times for Web Service"
   ]
  },
  {
   "cell_type": "code",
   "execution_count": null,
   "metadata": {
    "collapsed": true
   },
   "outputs": [],
   "source": [
    "%matplotlib notebook\n",
    "\n",
    "import pandas as pd\n",
    "import matplotlib.pyplot as plt\n",
    "\n",
    "from ipywidgets import *\n",
    "from IPython.display import display\n",
    "\n",
    "plt.style.use('ggplot')"
   ]
  },
  {
   "cell_type": "markdown",
   "metadata": {},
   "source": [
    "Why might we want to add interactivity to a notebook? One reason is to use more powerful tools to address traditional business intelligence use cases. Traditional BI tools work great if you are building a dashboard on top of SQL, but if you want to visualize information that is generated by some more sophisticated logic, they typically fall short."
   ]
  },
  {
   "cell_type": "markdown",
   "metadata": {},
   "source": [
    "With interactive widgets in a Notebook, you can use the full power of Python to express calculations and generate visualization — while exposing “knobs and dials” to an end user so they can control aspects of the visualization. In this sense, you can use Notebooks as lightweight “apps” for anyone."
   ]
  },
  {
   "cell_type": "markdown",
   "metadata": {},
   "source": [
    "### Intro to ipywidgets"
   ]
  },
  {
   "cell_type": "markdown",
   "metadata": {},
   "source": [
    "Functionality for adding widgets resides in the `ipywidgets` package, so we’ll want to start out by importing that:"
   ]
  },
  {
   "cell_type": "code",
   "execution_count": null,
   "metadata": {
    "collapsed": true
   },
   "outputs": [],
   "source": [
    "from ipywidgets import widgets"
   ]
  },
  {
   "cell_type": "markdown",
   "metadata": {},
   "source": [
    "Once you’ve imported that, there are various types of UI elements you can add. You can think of a widget as having two parts:"
   ]
  },
  {
   "cell_type": "markdown",
   "metadata": {},
   "source": [
    "1. The `UI/HTML` element that renders in the output cell (e.g., a textbox)\n",
    "1. An `event handler` that lets you specify what should happen when the value changes. In most cases, you’ll want to define a Python function that gets called when the user changes the input, so you can update other elements of your notebook (e.g., visualizations) accordingly."
   ]
  },
  {
   "cell_type": "markdown",
   "metadata": {},
   "source": [
    "### Basic types of widgets"
   ]
  },
  {
   "cell_type": "markdown",
   "metadata": {},
   "source": [
    "**Text input** - You can create a text input field by using the widgets.Text(). The .on_submit() listens to the activity and calls a function to handle the activity."
   ]
  },
  {
   "cell_type": "code",
   "execution_count": null,
   "metadata": {
    "collapsed": false
   },
   "outputs": [],
   "source": [
    "text = widgets.Text()\n",
    "display(text)\n",
    "\n",
    "def handle_submit(sender):\n",
    "    print(text.value)\n",
    "    \n",
    "text.on_submit(handle_submit)"
   ]
  },
  {
   "cell_type": "markdown",
   "metadata": {},
   "source": [
    "**Buttons** - The button widget works similar to the text input one."
   ]
  },
  {
   "cell_type": "code",
   "execution_count": null,
   "metadata": {
    "collapsed": false
   },
   "outputs": [],
   "source": [
    "button = widgets.Button(description=\"Don't Touch Me!\")\n",
    "display(button)\n",
    "\n",
    "def on_click_handler(b):\n",
    "    print(\"Oh no you didn't!\")\n",
    "    \n",
    "button.on_click(on_click_handler);"
   ]
  },
  {
   "cell_type": "markdown",
   "metadata": {},
   "source": [
    "**Interact**: Apart from the default widgets there is also “interact” which automatically generates a widget based on the arguments that you use."
   ]
  },
  {
   "cell_type": "code",
   "execution_count": null,
   "metadata": {
    "collapsed": false
   },
   "outputs": [],
   "source": [
    "def f(x):\n",
    "    print(x)\n",
    "\n",
    "interact(f,x=10);"
   ]
  },
  {
   "cell_type": "markdown",
   "metadata": {},
   "source": [
    "The first argument is the function that handles the selected value of the second argument. The type of second argument will decide the form of the interaction. As you can see: an integer results in a slider. Giving a boolean `(interact(f, x=True))` creates a checkbox."
   ]
  },
  {
   "cell_type": "markdown",
   "metadata": {},
   "source": [
    "You can store widgets in variables in your notebook just like any other type of value. This lets you bind the input of one widget to the value of another — possibly with some sort of calculation/manipulation in the middle. As a simple example:"
   ]
  },
  {
   "cell_type": "code",
   "execution_count": null,
   "metadata": {
    "collapsed": false
   },
   "outputs": [],
   "source": [
    "select = widgets.Text()\n",
    "\n",
    "def update_selected(sender):\n",
    "    select.value = watchlist.value\n",
    "\n",
    "select"
   ]
  },
  {
   "cell_type": "code",
   "execution_count": null,
   "metadata": {
    "collapsed": false,
    "scrolled": false
   },
   "outputs": [],
   "source": [
    "watchlist = widgets.ToggleButtons(\n",
    "    description='Movie Night :',\n",
    "    options=['Spotlight','Godzilla'],\n",
    ")\n",
    "watchlist.observe(update_selected)\n",
    "watchlist"
   ]
  },
  {
   "cell_type": "code",
   "execution_count": null,
   "metadata": {
    "collapsed": false
   },
   "outputs": [],
   "source": [
    "text = widgets.Text()\n",
    "\n",
    "def append_watchlist(sender):\n",
    "    watchlist.options += [text.value]\n",
    "\n",
    "text.on_submit(append_watchlist)\n",
    "text"
   ]
  },
  {
   "cell_type": "markdown",
   "metadata": {},
   "source": [
    "We create three widgets, an input, a selector, and an output. When the value of the input widget changes, we take the new value and update the options of the selector widget, once selected, we update the value of the output. You can create much more sophisticated interactions this way."
   ]
  },
  {
   "cell_type": "markdown",
   "metadata": {},
   "source": [
    "### Interactive visualizations"
   ]
  },
  {
   "cell_type": "markdown",
   "metadata": {},
   "source": [
    "The power of widgets comes from the fact that you can connect your own Python functions to run when a user changes the input’s value. Among other things, that lets you make visualizations that respond dynamically to changes in the users’s input. E.g.,"
   ]
  },
  {
   "cell_type": "code",
   "execution_count": null,
   "metadata": {
    "collapsed": false
   },
   "outputs": [],
   "source": [
    "t = np.arange(0.0,1.0,0.01)\n",
    "\n",
    "def plot_sin(f):\n",
    "    pd.DataFrame(list(zip(t, np.sin(2*np.pi*t*f))))[1].iplot()\n",
    "    \n",
    "interact(plot_sin, f=(1,10,0.1));"
   ]
  },
  {
   "cell_type": "markdown",
   "metadata": {},
   "source": [
    "This core flexibility unlocks tremendous potential for using notebooks as dashboards. For example, you can expose widgets to filter, group, or sort data; your Python code can then query data sources, calculate derived data, use pandas and other great packages to do in-memory manipulation — and then render results using any number of great Python visualization packages. Start with the [tutorial](http://nbviewer.jupyter.org/github/quantopian/ipython/blob/master/examples/Interactive%20Widgets/Index.ipynb)  if you're interested to learn more."
   ]
  },
  {
   "cell_type": "markdown",
   "metadata": {},
   "source": [
    "### Putting it into Action"
   ]
  },
  {
   "cell_type": "markdown",
   "metadata": {},
   "source": [
    "To wrap up, let's combine the concepts in last notebooks (magics, data pipelines) with the interactive widgets described above. The result is a mini “app” in a notebook: a user can provide a domain name, and the notebook will ping the domain and plot response times on a graph."
   ]
  },
  {
   "cell_type": "code",
   "execution_count": null,
   "metadata": {
    "collapsed": false,
    "scrolled": false
   },
   "outputs": [],
   "source": [
    "%%capture\n",
    "\n",
    "from IPython.display import Javascript\n",
    "from IPython.display import display_javascript\n",
    "\n",
    "NUMBER_OF_PINGS = 4\n",
    "\n",
    "# displaying the text widget\n",
    "domain_field = widgets.Text(description=\"Domain\", width=800)\n",
    "display(domain_field)\n",
    "\n",
    "# preparing the plot \n",
    "x = range(1, NUMBER_OF_PINGS + 1)\n",
    "\n",
    "data = pd.DataFrame(index=x)\n",
    "\n",
    "xTitle = 'Iterations'\n",
    "yTitle = 'ms'\n",
    "\n",
    "# preparing a container to put in created checkbox per domain\n",
    "checkboxes = []\n",
    "cb_container = widgets.HBox(width=800)\n",
    "display(cb_container)\n",
    "\n",
    "# add button that updates the graph based on the checkboxes\n",
    "button = widgets.Button(description=\"Graph\")\n",
    "\n",
    "# function to deal with the added domain name\n",
    "def handle_submit(sender):\n",
    "    # a part of the magic inside python : pinging\n",
    "    \n",
    "    domain = domain_field.value\n",
    "    res = !ping -c {NUMBER_OF_PINGS} {domain}\n",
    "    hits = res.grep('64 bytes').fields(-2).s.replace(\"time=\",\"\").split()\n",
    "    if len(hits) != NUMBER_OF_PINGS:\n",
    "        print(\"Domain gave errors on pinging\")\n",
    "    else:\n",
    "         # rebuild plot based on ping result\n",
    "        data[domain] = hits\n",
    "        data[domain] = data[domain].astype(float)\n",
    "        \n",
    "        # add a new checkbox for the new domain\n",
    "        checkboxes.append(widgets.Checkbox(description = domain, value=True, width=90))\n",
    "        cb_container.children=[i for i in checkboxes]\n",
    "        if len(checkboxes) == 1:\n",
    "            display(button)\n",
    "\n",
    "# function to deal with the checkbox update button       \n",
    "def on_button_clicked(b):\n",
    "    title = 'Ping Times for Web Services'\n",
    "    include_sites = [c.description for c in cb_container.children if c.value]\n",
    "    display(data[include_sites].iplot(title=title,xTitle=xTitle,yTitle=yTitle));\n",
    "    display_javascript(Javascript(\"\"\"$('.output_area').has('.plotly').first().remove()\"\"\"))\n",
    "\n",
    "button.on_click(on_button_clicked)\n",
    "domain_field.on_submit(handle_submit)"
   ]
  }
 ],
 "metadata": {
  "anaconda-cloud": {},
  "hide_input": false,
  "kernelspec": {
   "display_name": "Python [conda env:vdl]",
   "language": "python",
   "name": "conda-env-vdl-py"
  },
  "language_info": {
   "codemirror_mode": {
    "name": "ipython",
    "version": 3
   },
   "file_extension": ".py",
   "mimetype": "text/x-python",
   "name": "python",
   "nbconvert_exporter": "python",
   "pygments_lexer": "ipython3",
   "version": "3.5.2"
  },
  "widgets": {
   "state": {
    "7560637981464c099cbcefbbb37afde6": {
     "views": [
      {
       "cell_index": 57
      }
     ]
    },
    "89f5ae06aa6c427b9b34a219ae7b921b": {
     "views": [
      {
       "cell_index": 48
      }
     ]
    },
    "938203bbeda34af1b806502065300084": {
     "views": [
      {
       "cell_index": 47
      }
     ]
    },
    "9ee2131674a14a1c9a23ebda8d699339": {
     "views": [
      {
       "cell_index": 42
      }
     ]
    },
    "bad7d9d7206543c18f90e8edc0a849cf": {
     "views": [
      {
       "cell_index": 57
      }
     ]
    },
    "be9b8a2353294d90b93a9730859249f3": {
     "views": [
      {
       "cell_index": 40
      }
     ]
    },
    "cab0369fcdef4dff98006f11e70ead02": {
     "views": [
      {
       "cell_index": 44
      }
     ]
    },
    "cc573c8108194df883ae547eadcd91bb": {
     "views": [
      {
       "cell_index": 53
      }
     ]
    },
    "f7adaa30221e40d1a76d689e44336263": {
     "views": [
      {
       "cell_index": 49
      }
     ]
    }
   },
   "version": "1.2.0"
  }
 },
 "nbformat": 4,
 "nbformat_minor": 1
}
