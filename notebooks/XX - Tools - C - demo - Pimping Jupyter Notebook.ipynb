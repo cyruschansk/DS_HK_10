{
 "cells": [
  {
   "cell_type": "markdown",
   "metadata": {
    "slideshow": {
     "slide_type": "skip"
    }
   },
   "source": [
    "# Data Science Tools"
   ]
  },
  {
   "cell_type": "code",
   "execution_count": null,
   "metadata": {
    "collapsed": false,
    "slideshow": {
     "slide_type": "skip"
    }
   },
   "outputs": [],
   "source": [
    "# %load utils/imports.py\n",
    "%matplotlib inline\n",
    "\n",
    "from utils import *\n",
    "from utils.styles import *"
   ]
  },
  {
   "cell_type": "markdown",
   "metadata": {
    "slideshow": {
     "slide_type": "slide"
    }
   },
   "source": [
    "# Pimpin' Jupyter Notebook"
   ]
  },
  {
   "cell_type": "markdown",
   "metadata": {
    "slideshow": {
     "slide_type": "-"
    }
   },
   "source": [
    "1. Jupyter Notebook Extensions\n",
    "2. %magic\n",
    "3. Publishing a Notebook"
   ]
  },
  {
   "cell_type": "markdown",
   "metadata": {},
   "source": [
    "## Jupyter notebook extensions"
   ]
  },
  {
   "cell_type": "markdown",
   "metadata": {},
   "source": [
    "We will be using `Jupyter Nbextensions Configurator`, a server extension for [jupyter notebook](https://github.com/jupyter/notebook) which provides configuration interfaces for notebook extensions (nbextensions).\n",
    "\n",
    "The `jupyter_nbextensions_configurator` jupyter server extension provides graphical user interfaces for configuring which nbextensions are enabled (load automatically for every notebook), and display their readme files.\n",
    "\n",
    "In addition, for extensions which include an appropriate yaml descriptor file, the interface also provides controls to configure the extensions'\n",
    "options."
   ]
  },
  {
   "cell_type": "markdown",
   "metadata": {},
   "source": [
    "###  Installation"
   ]
  },
  {
   "cell_type": "markdown",
   "metadata": {},
   "source": [
    "For those using conda, you can now get `jupyter_nbextensions_configurator` from\n",
    "the excellent [conda-forge](https://conda-forge.github.io/)\n",
    "[channel](https://anaconda.org/conda-forge) in a single command:\n",
    "\n",
    "    conda install -c conda-forge jupyter_nbextensions_configurator\n",
    "\n",
    "For those not using conda, the installation has two steps:\n",
    "\n",
    " 1. Installing the pip package. This should be as simple as\n",
    "\n",
    "        pip install jupyter_nbextensions_configurator\n",
    "\n",
    " 2. Configuring the notebook server to load the server extension. A `jupyter`\n",
    "    subcommand is provided for this. You can enable the serverextension and the\n",
    "    configurator nbextensions listed below for the current user with\n",
    "\n",
    "        jupyter nbextensions_configurator enable --user\n",
    "\n",
    "\n",
    "Once installed, you'll need to restart the notebook server. Once restarted, you\n",
    "should be able to find the configurator user interfaces as described below."
   ]
  },
  {
   "cell_type": "markdown",
   "metadata": {},
   "source": [
    "### Usage\n",
    "\n",
    "Once `jupyter_nbextensions_configurator` is installed and enabled, and your\n",
    "notebook server has been restarted, you should be able to find the nbextensions\n",
    "configuration interface at the url `<base_url>nbextensions`, where\n",
    "`<base_url>` is described below (for simple installs, it's usually just `/`, so\n",
    "the UI is at `/nbextensions`).\n",
    "\n",
    "![configurator UI page](https://raw.githubusercontent.com/Jupyter-contrib/jupyter_nbextensions_configurator/master/src/jupyter_nbextensions_configurator/static/nbextensions_configurator/icon.png)\n",
    "\n",
    "\n",
    "### tree tab\n",
    "\n",
    "In addition to the main standalone page, the nbextensions configurator interface is also available as a tab on the dashboard, once it's been configured to appear there.\n",
    "\n",
    "To do this, go to the `/nbextensions` url described above, and enable the nbextension `Nbextensions dashboard tab`.\n",
    "\n",
    "![](https://github.com/Jupyter-contrib/jupyter_nbextensions_configurator/raw/master/src/jupyter_nbextensions_configurator/static/nbextensions_configurator/tree_tab/icon.png)"
   ]
  },
  {
   "cell_type": "markdown",
   "metadata": {},
   "source": [
    "If you are using a standard install, the config panel would be available at [/nbextensions_configurator](http://localhost:8888/nbextensions)"
   ]
  },
  {
   "cell_type": "markdown",
   "metadata": {},
   "source": [
    "I've found the following to be useful exensions:\n",
    "\n",
    "* **Spellchecker** - adds a CodeMirror overlay mode for Typo.js spellchecking\n",
    "* **Toggle all line numbers** - hotkey to toggle all cells' line numbers on or off\n",
    "* **Hide input all** - toggle display of all code cells' inputs\n",
    "* **Limit Output** - limits the number of characters that can be printed below a codecell\n",
    "* **Gist It** - publish the current notebook as a gist.\n",
    "* **Notify** - notify when kernel becomes idle again after being busy for some time\n",
    "* **ZenMode** - minimal layout"
   ]
  },
  {
   "cell_type": "markdown",
   "metadata": {
    "collapsed": true
   },
   "source": [
    "For more details on Jupyter Extensions, check the [Book of Jupyter](https://carreau.gitbooks.io/jupyter-book/content/index.html)"
   ]
  },
  {
   "cell_type": "markdown",
   "metadata": {},
   "source": [
    "## %magic"
   ]
  },
  {
   "cell_type": "markdown",
   "metadata": {},
   "source": [
    "You probably know that you can start notebooks with different kernels (e.g., R, Julia) — not just Python. What you might not know is that even within a notebook, you can run different types of code in different cells. With “magics”, it is possible to use different languages. The magics that are available vary per notebook kernel, however."
   ]
  },
  {
   "cell_type": "markdown",
   "metadata": {},
   "source": [
    "By running `%lsmagic` in a cell you get a list of all the available magics. You can use `%` to start a single-line expression to run with the magics command. Or you can use a double `%%` to run a multi-line expression."
   ]
  },
  {
   "cell_type": "code",
   "execution_count": null,
   "metadata": {
    "collapsed": false
   },
   "outputs": [],
   "source": [
    "%lsmagic"
   ]
  },
  {
   "cell_type": "markdown",
   "metadata": {},
   "source": [
    "Some very useful ones are:"
   ]
  },
  {
   "cell_type": "markdown",
   "metadata": {},
   "source": [
    "* **%env** to list your environment variables."
   ]
  },
  {
   "cell_type": "code",
   "execution_count": null,
   "metadata": {
    "collapsed": false,
    "scrolled": false
   },
   "outputs": [],
   "source": [
    "%env"
   ]
  },
  {
   "cell_type": "markdown",
   "metadata": {},
   "source": [
    "`!<command>` to run a shell command. E.g., `!pip freeze | grep jupyter` to see what version of jupyter packages are installed."
   ]
  },
  {
   "cell_type": "code",
   "execution_count": null,
   "metadata": {
    "collapsed": false
   },
   "outputs": [],
   "source": [
    "!pip freeze | grep jupyter"
   ]
  },
  {
   "cell_type": "markdown",
   "metadata": {},
   "source": [
    "**%pastebin** to upload code to github and get the url returned."
   ]
  },
  {
   "cell_type": "code",
   "execution_count": null,
   "metadata": {
    "collapsed": false
   },
   "outputs": [],
   "source": [
    "%pastebin rules.json"
   ]
  },
  {
   "cell_type": "markdown",
   "metadata": {},
   "source": [
    "You can customise the description"
   ]
  },
  {
   "cell_type": "code",
   "execution_count": null,
   "metadata": {
    "collapsed": false
   },
   "outputs": [],
   "source": [
    "%pastebin -d \"JSON Structure for D3 Tree Layout\" rules.json"
   ]
  },
  {
   "cell_type": "markdown",
   "metadata": {},
   "source": [
    "Or specify code from cells based on their line number!"
   ]
  },
  {
   "cell_type": "code",
   "execution_count": null,
   "metadata": {
    "collapsed": false
   },
   "outputs": [],
   "source": [
    "%pastebin 1"
   ]
  },
  {
   "cell_type": "markdown",
   "metadata": {},
   "source": [
    "Yep! Ranges of cells work too!"
   ]
  },
  {
   "cell_type": "code",
   "execution_count": null,
   "metadata": {
    "collapsed": false
   },
   "outputs": [],
   "source": [
    "%pastebin 1-10"
   ]
  },
  {
   "cell_type": "code",
   "execution_count": null,
   "metadata": {
    "collapsed": false
   },
   "outputs": [],
   "source": [
    "%pastebin 1-100"
   ]
  },
  {
   "cell_type": "markdown",
   "metadata": {},
   "source": [
    "* **timeit** / **time** will time whatever you evaluate multiple times and give you the best, and the average times"
   ]
  },
  {
   "cell_type": "code",
   "execution_count": null,
   "metadata": {
    "collapsed": true
   },
   "outputs": [],
   "source": [
    "%time x = list(range(10000))"
   ]
  },
  {
   "cell_type": "code",
   "execution_count": null,
   "metadata": {
    "collapsed": false
   },
   "outputs": [],
   "source": [
    "%%timeit\n",
    "x = list(range(10000))"
   ]
  },
  {
   "cell_type": "markdown",
   "metadata": {},
   "source": [
    "* **%prun** This might start to be a little bit advanced, but you can profile your code.\n",
    "\n"
   ]
  },
  {
   "cell_type": "code",
   "execution_count": null,
   "metadata": {
    "collapsed": false
   },
   "outputs": [],
   "source": [
    "%prun cf.datagen.lines()"
   ]
  }
 ],
 "metadata": {
  "anaconda-cloud": {},
  "hide_input": false,
  "kernelspec": {
   "display_name": "Python [conda env:vdl]",
   "language": "python",
   "name": "conda-env-vdl-py"
  },
  "language_info": {
   "codemirror_mode": {
    "name": "ipython",
    "version": 3
   },
   "file_extension": ".py",
   "mimetype": "text/x-python",
   "name": "python",
   "nbconvert_exporter": "python",
   "pygments_lexer": "ipython3",
   "version": "3.5.2"
  }
 },
 "nbformat": 4,
 "nbformat_minor": 1
}
