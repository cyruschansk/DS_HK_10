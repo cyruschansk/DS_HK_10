{
 "cells": [
  {
   "cell_type": "markdown",
   "metadata": {},
   "source": [
    "# Communication"
   ]
  },
  {
   "cell_type": "markdown",
   "metadata": {},
   "source": [
    "![](http://explosivebusinesssolutions.com/app/uploads/forest-and-trees.png)"
   ]
  },
  {
   "cell_type": "code",
   "execution_count": 9,
   "metadata": {
    "collapsed": true
   },
   "outputs": [],
   "source": [
    "# %load utils/imports.py\n",
    "from utils.styles import *"
   ]
  },
  {
   "cell_type": "markdown",
   "metadata": {},
   "source": [
    "_See the forest, see the trees_. Here lies the challenge in both performing and presenting an analysis. As data scientists, analysts, and machine learning engineers faced with fulfilling business objectives, we find ourselves bridging the gap between two cultures: sciences and humanities. After spending countless hours in a Jupyter notebook devising a creative and elegant solution to a difficult problem, the insights and business applications are obvious in our minds. But how do you distill them into something you can communicate?"
   ]
  },
  {
   "cell_type": "markdown",
   "metadata": {},
   "source": [
    "![](http://5047-presscdn.pagely.netdna-cdn.com/wp-content/uploads/2016/06/job-listing.png)"
   ]
  },
  {
   "cell_type": "markdown",
   "metadata": {},
   "source": [
    "## Get your head in the game"
   ]
  },
  {
   "cell_type": "markdown",
   "metadata": {
    "collapsed": true
   },
   "source": [
    "Imagine you’ve just completed the so-called heavy lifting, whatever it may be, and you’re ready to present your results and conclusions in a report. Well, step away from the word processor! There are two things you must first consider: your audience and your goals. This is your forest."
   ]
  },
  {
   "cell_type": "markdown",
   "metadata": {},
   "source": [
    "### Who is your audience?\n"
   ]
  },
  {
   "cell_type": "markdown",
   "metadata": {},
   "source": [
    "The matter of who you’re speaking to will influence every detail of how you choose to present your analysis from whether you use technical jargon or spend time carefully defining your terms. The formality of the context may determine whether a short, fun tangent or personal anecdote will keep your audience happily engaged or elicit eye rolls … and worse.\n",
    "\n",
    "This is all important to consider because once you’ve envisioned your audience, you take stock of what may and may not be shared knowledge and how to manage their expectations. In your writing (and in everyday life), it’s useful to be cognizant of Grice’s principles of cooperative communication:\n",
    "\n"
   ]
  },
  {
   "cell_type": "markdown",
   "metadata": {},
   "source": [
    "1. **Maxim of quantity**: be informative, without giving overwhelming amounts of extraneous detail.\n",
    "1. **Maxim of quality**: be truthful. Enough said.\n",
    "1. **Maxim of relation**: be relevant. I’ll give you some tips on staying topical shortly!\n",
    "1. **Maxim of manner**: be clear. Don’t be ambiguous, be orderly."
   ]
  },
  {
   "cell_type": "markdown",
   "metadata": {},
   "source": [
    "So be cooperative! Know your audience and do what you can to anticipate their expectations. This will ensure that you cover all ground in exactly as much detail as necessary in your report."
   ]
  },
  {
   "cell_type": "markdown",
   "metadata": {},
   "source": [
    "## What is the goal?"
   ]
  },
  {
   "cell_type": "markdown",
   "metadata": {},
   "source": [
    "Also before you put pen to paper, it’s helpful remind yourself again (and again) of what your goal is. If you’re working in a professional environment, you’re aware that it’s important to be continually mindful of the goal or business problem and why you’re tasked with solving it.\n",
    "\n",
    "Or perhaps it's a strategic initiative you're after: Did you set out to learn something new about some data (and the world)? Or have you been diligently working on a new skill you’d like to showcase? Do you want to test out some ideas and get feedback? It’s okay to make it your goal to find out “Can I do this?” - maybe you want to share some of your expertise with your team?"
   ]
  },
  {
   "cell_type": "markdown",
   "metadata": {},
   "source": [
    "> If we can really understand the problem, the answer will come out of it, because the answer is not separate from the problem. <cite>Jiddu Krishnamurti</cite>"
   ]
  },
  {
   "cell_type": "markdown",
   "metadata": {},
   "source": [
    "If you’ve reached the point of having an analysis to report, you’ve more than likely familiarized yourself with the goals of the initiative, but you must also keep them at the forefront of your thoughts when presenting your results as well. Your work should be contextualized in terms of your understanding of the research objectives.\n",
    "\n",
    "Often this means synthesizing many analyses you’ve performed into a few key pieces of evidence which support a story; this can’t be done well except by accident without keeping in mind the ultimate objective at hand!"
   ]
  },
  {
   "cell_type": "markdown",
   "metadata": {},
   "source": [
    "## Quiz"
   ]
  },
  {
   "cell_type": "markdown",
   "metadata": {},
   "source": [
    "1. "
   ]
  }
 ],
 "metadata": {
  "anaconda-cloud": {},
  "hide_input": false,
  "kernelspec": {
   "display_name": "Python [default]",
   "language": "python",
   "name": "python3"
  },
  "language_info": {
   "codemirror_mode": {
    "name": "ipython",
    "version": 3
   },
   "file_extension": ".py",
   "mimetype": "text/x-python",
   "name": "python",
   "nbconvert_exporter": "python",
   "pygments_lexer": "ipython3",
   "version": "3.5.2"
  }
 },
 "nbformat": 4,
 "nbformat_minor": 0
}
