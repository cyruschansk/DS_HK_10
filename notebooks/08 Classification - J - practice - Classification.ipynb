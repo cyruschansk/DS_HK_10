{
 "cells": [
  {
   "cell_type": "markdown",
   "metadata": {},
   "source": [
    "# Supervised Learning"
   ]
  },
  {
   "cell_type": "code",
   "execution_count": 1,
   "metadata": {
    "collapsed": false
   },
   "outputs": [
    {
     "data": {
      "text/html": [
       "<style>\n",
       "\n",
       "@font-face {\n",
       "    font-family: 'Cooper Hewit' ;\n",
       "    src: url(utils/CooperHewitt-Medium.otf);\n",
       "}\n",
       "\n",
       "@font-face {\n",
       "    font-family: 'Cooper Hewit Bold' ;\n",
       "    src: url(utils/CooperHewitt-Bold.otf);\n",
       "}\n",
       "\n",
       "@font-face {\n",
       "    font-family: 'Cooper Hewit Light' ;\n",
       "    src: url(utils/CooperHewitt-Light.otf);\n",
       "}\n",
       "\n",
       ".container {\n",
       "    width:96% !important;\n",
       "    font-family: 'Cooper Hewit','Source Sans Pro', 'Open Sans', 'Helvetica', Sans;\n",
       "}\n",
       "\n",
       ".text_cell_render h1 {\n",
       "    text-align: center;\n",
       "    font-family: 'Cooper Hewit Light';\n",
       "    font-size: 52px;\n",
       "}\n",
       "\n",
       "h2, h3 {\n",
       "    font-family: 'Cooper Hewit Bold' ;\n",
       "}\n",
       "\n",
       ".rendered_html strong {\n",
       "    font-family: 'Cooper Hewit Bold' ; \n",
       "    font-weight: bold;\n",
       "}\n",
       "\n",
       ".text_cell_render p,\n",
       ".text_cell_render h2,\n",
       ".text_cell_render h3,\n",
       ".text_cell_render h4,\n",
       ".text_cell_render ul,\n",
       ".text_cell_render ol,\n",
       ".text_cell_render table,\n",
       ".text_cell_render pre {\n",
       "    max-width: 860px;\n",
       "    margin: 0 auto;\n",
       "    line-height: 30px;\n",
       "}\n",
       "\n",
       ".text_cell_render p,\n",
       ".text_cell_render ul,\n",
       ".text_cell_render ol,\n",
       ".text_cell_render table {\n",
       "    font-family: 'Cooper Hewit' ;\n",
       "    font-size: 20px;\n",
       "    padding-bottom : 26px;\n",
       "}\n",
       "\n",
       ".text_cell_render h4 {\n",
       "    font-size: 20px;\n",
       "    text-align: center;\n",
       "}\n",
       "\n",
       ".rendered_html pre,\n",
       ".rendered_html code {\n",
       "    font-size: 20px;\n",
       "    line-height: 30px;\n",
       "    background-color: #f9f9f9;\n",
       "    padding: 8px;\n",
       "}\n",
       "\n",
       ".rendered_html code:not(.cm-s-ipython) {\n",
       "    padding: 0;\n",
       "    padding-top: 0.2em;\n",
       "    padding-bottom: 0.2em;\n",
       "    margin: 0;\n",
       "    background-color: rgba(0, 0, 0, 0.04);\n",
       "    border-radius: 3px;\n",
       "}\n",
       "\n",
       ".text_cell.rendered .input_prompt {\n",
       "    display : none !important;\n",
       "}\n",
       "\n",
       ".text_cell_render table {\n",
       "    width: 860px;\n",
       "    margin: 26px auto;\n",
       "    text-align: center;\n",
       "}\n",
       "\n",
       ".text_cell_render td,\n",
       ".text_cell_render th {\n",
       "    padding: 8px;\n",
       "    text-align: center;\n",
       "}\n",
       "\n",
       ".text_cell_render table thead {\n",
       "    background-color: #333;\n",
       "    color: white;\n",
       "    font-family: 'Cooper Hewit Light';\n",
       "    text-align: center;\n",
       "}\n",
       "\n",
       ".CodeMirror {\n",
       "    padding: 8px 20px;\n",
       "}\n",
       ".CodeMirror pre {\n",
       "    font-size: 20px;\n",
       "    line-height: 28px;\n",
       "}\n",
       "\n",
       "div.output_text pre {\n",
       "    color: #333;\n",
       "    font-size: 18px;\n",
       "    line-height: 26px;\n",
       "}\n",
       ".output_png img{\n",
       "    margin: 0 auto;\n",
       "    margin-top: 12px;\n",
       "    display: block;\n",
       "    min-width: 600px;\n",
       "}\n",
       "\n",
       ".rendered_html blockquote cite:before {\n",
       "    content: '— ';\n",
       "}\n",
       ".rendered_html blockquote p:before {\n",
       "    content: \"“\";\n",
       "    font-size: 160px;\n",
       "    color: rgba(218, 218, 218, 0.68);\n",
       "    position: relative;\n",
       "    margin-left: -72px;\n",
       "    top: 32px;\n",
       "    left: 37px;\n",
       "    font-family: Cooper Hewitt Bold;\n",
       "    z-index: 0;\n",
       "}\n",
       ".rendered_html blockquote {\n",
       "    clear: both;\n",
       "    border: none;\n",
       "}\n",
       "\n",
       ".rendered_html blockquote p:after {\n",
       "    visibility: hidden;\n",
       "    display: block;\n",
       "    content: \"\";\n",
       "    clear: both;\n",
       "    height: 0;\n",
       "\n",
       "}\n",
       "\n",
       ".rendered_html blockquote cite {\n",
       "    display: block;\n",
       "    padding-left: 30%;\n",
       "    padding-right: 10%;\n",
       "    text-align: right;\n",
       "    margin-top: 12px;\n",
       "}\n",
       "\n",
       "</style>"
      ],
      "text/plain": [
       "<IPython.core.display.HTML object>"
      ]
     },
     "metadata": {},
     "output_type": "display_data"
    }
   ],
   "source": [
    "# %load utils/imports.py\n",
    "%matplotlib inline\n",
    "\n",
    "import numpy as np\n",
    "import pandas as pd\n",
    "\n",
    "from utils import *\n",
    "# from utils.plotting import *\n",
    "\n",
    "from utils.styles import *"
   ]
  },
  {
   "cell_type": "markdown",
   "metadata": {},
   "source": [
    "# Build a classifier"
   ]
  },
  {
   "cell_type": "markdown",
   "metadata": {},
   "source": [
    "With our new knowledge about class labels and classification, it should be relatively straightforward to write a program that returns class labels based on some prior knowledge.\n",
    "\n",
    "Our goal below is to re-explore the motor trend dataset and attempt to write a program that classifies each car by the number of gears it has: 3, 4, or 5. We can do this very easily with python if-else statements and some pandas functions.\n",
    "\n",
    "Afterward, measure the _accuracy_ of your classifier using the math of \"total correct\" over \"total samples.\"\n",
    "\n",
    "Your classifier should be able to:\n",
    "\n",
    "1. Get one class label 100% correct.\n",
    "2. Accurately predict the majority of the other two, with some error."
   ]
  },
  {
   "cell_type": "markdown",
   "metadata": {},
   "source": [
    "## Review the data"
   ]
  },
  {
   "cell_type": "code",
   "execution_count": 2,
   "metadata": {
    "collapsed": false
   },
   "outputs": [
    {
     "name": "stderr",
     "output_type": "stream",
     "text": [
      "243it [00:00, 62887.39it/s]\n"
     ]
    }
   ],
   "source": [
    "fn = 'mtcars.csv'\n",
    "download_data(fn)\n",
    "df = pd.read_csv('data/' + fn)\n",
    "grid(df)"
   ]
  },
  {
   "cell_type": "markdown",
   "metadata": {},
   "source": [
    "## Implement the classifier"
   ]
  },
  {
   "cell_type": "code",
   "execution_count": 3,
   "metadata": {
    "collapsed": false
   },
   "outputs": [
    {
     "ename": "KeyError",
     "evalue": "('cyl', u'occurred at index 0')",
     "output_type": "error",
     "traceback": [
      "\u001b[0;31m---------------------------------------------------------------------------\u001b[0m",
      "\u001b[0;31mKeyError\u001b[0m                                  Traceback (most recent call last)",
      "\u001b[0;32m<ipython-input-3-51bb1f0fa824>\u001b[0m in \u001b[0;36m<module>\u001b[0;34m()\u001b[0m\n\u001b[1;32m      6\u001b[0m         \u001b[0;32mreturn\u001b[0m \u001b[0;36m5\u001b[0m\u001b[0;34m\u001b[0m\u001b[0m\n\u001b[1;32m      7\u001b[0m \u001b[0;34m\u001b[0m\u001b[0m\n\u001b[0;32m----> 8\u001b[0;31m \u001b[0mpredictions\u001b[0m \u001b[0;34m=\u001b[0m \u001b[0mdf\u001b[0m\u001b[0;34m.\u001b[0m\u001b[0mapply\u001b[0m\u001b[0;34m(\u001b[0m\u001b[0mgear_classifier\u001b[0m\u001b[0;34m,\u001b[0m \u001b[0maxis\u001b[0m\u001b[0;34m=\u001b[0m\u001b[0;36m1\u001b[0m\u001b[0;34m)\u001b[0m\u001b[0;34m\u001b[0m\u001b[0m\n\u001b[0m",
      "\u001b[0;32m/home/io/.tools/anaconda/envs/dsx/lib/python2.7/site-packages/pandas/core/frame.pyc\u001b[0m in \u001b[0;36mapply\u001b[0;34m(self, func, axis, broadcast, raw, reduce, args, **kwds)\u001b[0m\n\u001b[1;32m   4059\u001b[0m                     \u001b[0;32mif\u001b[0m \u001b[0mreduce\u001b[0m \u001b[0;32mis\u001b[0m \u001b[0mNone\u001b[0m\u001b[0;34m:\u001b[0m\u001b[0;34m\u001b[0m\u001b[0m\n\u001b[1;32m   4060\u001b[0m                         \u001b[0mreduce\u001b[0m \u001b[0;34m=\u001b[0m \u001b[0mTrue\u001b[0m\u001b[0;34m\u001b[0m\u001b[0m\n\u001b[0;32m-> 4061\u001b[0;31m                     \u001b[0;32mreturn\u001b[0m \u001b[0mself\u001b[0m\u001b[0;34m.\u001b[0m\u001b[0m_apply_standard\u001b[0m\u001b[0;34m(\u001b[0m\u001b[0mf\u001b[0m\u001b[0;34m,\u001b[0m \u001b[0maxis\u001b[0m\u001b[0;34m,\u001b[0m \u001b[0mreduce\u001b[0m\u001b[0;34m=\u001b[0m\u001b[0mreduce\u001b[0m\u001b[0;34m)\u001b[0m\u001b[0;34m\u001b[0m\u001b[0m\n\u001b[0m\u001b[1;32m   4062\u001b[0m             \u001b[0;32melse\u001b[0m\u001b[0;34m:\u001b[0m\u001b[0;34m\u001b[0m\u001b[0m\n\u001b[1;32m   4063\u001b[0m                 \u001b[0;32mreturn\u001b[0m \u001b[0mself\u001b[0m\u001b[0;34m.\u001b[0m\u001b[0m_apply_broadcast\u001b[0m\u001b[0;34m(\u001b[0m\u001b[0mf\u001b[0m\u001b[0;34m,\u001b[0m \u001b[0maxis\u001b[0m\u001b[0;34m)\u001b[0m\u001b[0;34m\u001b[0m\u001b[0m\n",
      "\u001b[0;32m/home/io/.tools/anaconda/envs/dsx/lib/python2.7/site-packages/pandas/core/frame.pyc\u001b[0m in \u001b[0;36m_apply_standard\u001b[0;34m(self, func, axis, ignore_failures, reduce)\u001b[0m\n\u001b[1;32m   4155\u001b[0m             \u001b[0;32mtry\u001b[0m\u001b[0;34m:\u001b[0m\u001b[0;34m\u001b[0m\u001b[0m\n\u001b[1;32m   4156\u001b[0m                 \u001b[0;32mfor\u001b[0m \u001b[0mi\u001b[0m\u001b[0;34m,\u001b[0m \u001b[0mv\u001b[0m \u001b[0;32min\u001b[0m \u001b[0menumerate\u001b[0m\u001b[0;34m(\u001b[0m\u001b[0mseries_gen\u001b[0m\u001b[0;34m)\u001b[0m\u001b[0;34m:\u001b[0m\u001b[0;34m\u001b[0m\u001b[0m\n\u001b[0;32m-> 4157\u001b[0;31m                     \u001b[0mresults\u001b[0m\u001b[0;34m[\u001b[0m\u001b[0mi\u001b[0m\u001b[0;34m]\u001b[0m \u001b[0;34m=\u001b[0m \u001b[0mfunc\u001b[0m\u001b[0;34m(\u001b[0m\u001b[0mv\u001b[0m\u001b[0;34m)\u001b[0m\u001b[0;34m\u001b[0m\u001b[0m\n\u001b[0m\u001b[1;32m   4158\u001b[0m                     \u001b[0mkeys\u001b[0m\u001b[0;34m.\u001b[0m\u001b[0mappend\u001b[0m\u001b[0;34m(\u001b[0m\u001b[0mv\u001b[0m\u001b[0;34m.\u001b[0m\u001b[0mname\u001b[0m\u001b[0;34m)\u001b[0m\u001b[0;34m\u001b[0m\u001b[0m\n\u001b[1;32m   4159\u001b[0m             \u001b[0;32mexcept\u001b[0m \u001b[0mException\u001b[0m \u001b[0;32mas\u001b[0m \u001b[0me\u001b[0m\u001b[0;34m:\u001b[0m\u001b[0;34m\u001b[0m\u001b[0m\n",
      "\u001b[0;32m<ipython-input-3-51bb1f0fa824>\u001b[0m in \u001b[0;36mgear_classifier\u001b[0;34m(row)\u001b[0m\n\u001b[1;32m      1\u001b[0m \u001b[0;31m# Here is some code to get you started.\u001b[0m\u001b[0;34m\u001b[0m\u001b[0;34m\u001b[0m\u001b[0m\n\u001b[1;32m      2\u001b[0m \u001b[0;32mdef\u001b[0m \u001b[0mgear_classifier\u001b[0m\u001b[0;34m(\u001b[0m\u001b[0mrow\u001b[0m\u001b[0;34m)\u001b[0m\u001b[0;34m:\u001b[0m\u001b[0;34m\u001b[0m\u001b[0m\n\u001b[0;32m----> 3\u001b[0;31m     \u001b[0;32mif\u001b[0m \u001b[0mrow\u001b[0m\u001b[0;34m[\u001b[0m\u001b[0;34m'cyl'\u001b[0m\u001b[0;34m]\u001b[0m \u001b[0;34m==\u001b[0m \u001b[0;36m8\u001b[0m \u001b[0;32mand\u001b[0m \u001b[0mrow\u001b[0m\u001b[0;34m[\u001b[0m\u001b[0;34m'am'\u001b[0m\u001b[0;34m]\u001b[0m \u001b[0;34m==\u001b[0m \u001b[0;36m0\u001b[0m\u001b[0;34m:\u001b[0m\u001b[0;34m\u001b[0m\u001b[0m\n\u001b[0m\u001b[1;32m      4\u001b[0m         \u001b[0;32mreturn\u001b[0m \u001b[0;36m3\u001b[0m\u001b[0;34m\u001b[0m\u001b[0m\n\u001b[1;32m      5\u001b[0m     \u001b[0;32melse\u001b[0m\u001b[0;34m:\u001b[0m\u001b[0;34m\u001b[0m\u001b[0m\n",
      "\u001b[0;32m/home/io/.tools/anaconda/envs/dsx/lib/python2.7/site-packages/pandas/core/series.pyc\u001b[0m in \u001b[0;36m__getitem__\u001b[0;34m(self, key)\u001b[0m\n\u001b[1;32m    581\u001b[0m         \u001b[0mkey\u001b[0m \u001b[0;34m=\u001b[0m \u001b[0mcom\u001b[0m\u001b[0;34m.\u001b[0m\u001b[0m_apply_if_callable\u001b[0m\u001b[0;34m(\u001b[0m\u001b[0mkey\u001b[0m\u001b[0;34m,\u001b[0m \u001b[0mself\u001b[0m\u001b[0;34m)\u001b[0m\u001b[0;34m\u001b[0m\u001b[0m\n\u001b[1;32m    582\u001b[0m         \u001b[0;32mtry\u001b[0m\u001b[0;34m:\u001b[0m\u001b[0;34m\u001b[0m\u001b[0m\n\u001b[0;32m--> 583\u001b[0;31m             \u001b[0mresult\u001b[0m \u001b[0;34m=\u001b[0m \u001b[0mself\u001b[0m\u001b[0;34m.\u001b[0m\u001b[0mindex\u001b[0m\u001b[0;34m.\u001b[0m\u001b[0mget_value\u001b[0m\u001b[0;34m(\u001b[0m\u001b[0mself\u001b[0m\u001b[0;34m,\u001b[0m \u001b[0mkey\u001b[0m\u001b[0;34m)\u001b[0m\u001b[0;34m\u001b[0m\u001b[0m\n\u001b[0m\u001b[1;32m    584\u001b[0m \u001b[0;34m\u001b[0m\u001b[0m\n\u001b[1;32m    585\u001b[0m             \u001b[0;32mif\u001b[0m \u001b[0;32mnot\u001b[0m \u001b[0mlib\u001b[0m\u001b[0;34m.\u001b[0m\u001b[0misscalar\u001b[0m\u001b[0;34m(\u001b[0m\u001b[0mresult\u001b[0m\u001b[0;34m)\u001b[0m\u001b[0;34m:\u001b[0m\u001b[0;34m\u001b[0m\u001b[0m\n",
      "\u001b[0;32m/home/io/.tools/anaconda/envs/dsx/lib/python2.7/site-packages/pandas/indexes/base.pyc\u001b[0m in \u001b[0;36mget_value\u001b[0;34m(self, series, key)\u001b[0m\n\u001b[1;32m   1992\u001b[0m                     \u001b[0;32mraise\u001b[0m \u001b[0mInvalidIndexError\u001b[0m\u001b[0;34m(\u001b[0m\u001b[0mkey\u001b[0m\u001b[0;34m)\u001b[0m\u001b[0;34m\u001b[0m\u001b[0m\n\u001b[1;32m   1993\u001b[0m                 \u001b[0;32melse\u001b[0m\u001b[0;34m:\u001b[0m\u001b[0;34m\u001b[0m\u001b[0m\n\u001b[0;32m-> 1994\u001b[0;31m                     \u001b[0;32mraise\u001b[0m \u001b[0me1\u001b[0m\u001b[0;34m\u001b[0m\u001b[0m\n\u001b[0m\u001b[1;32m   1995\u001b[0m             \u001b[0;32mexcept\u001b[0m \u001b[0mException\u001b[0m\u001b[0;34m:\u001b[0m  \u001b[0;31m# pragma: no cover\u001b[0m\u001b[0;34m\u001b[0m\u001b[0m\n\u001b[1;32m   1996\u001b[0m                 \u001b[0;32mraise\u001b[0m \u001b[0me1\u001b[0m\u001b[0;34m\u001b[0m\u001b[0m\n",
      "\u001b[0;31mKeyError\u001b[0m: ('cyl', u'occurred at index 0')"
     ]
    }
   ],
   "source": [
    "# Here is some code to get you started.\n",
    "def gear_classifier(row):\n",
    "    if row['cyl'] == 8 and row['am'] == 0:\n",
    "        return 3\n",
    "    else:\n",
    "        return 5\n",
    "\n",
    "predictions = df.apply(gear_classifier, axis=1)"
   ]
  },
  {
   "cell_type": "markdown",
   "metadata": {},
   "source": [
    "## How did it do?"
   ]
  },
  {
   "cell_type": "code",
   "execution_count": null,
   "metadata": {
    "collapsed": true
   },
   "outputs": [],
   "source": [
    "# Check the accuracy of your predictions."
   ]
  }
 ],
 "metadata": {
  "anaconda-cloud": {},
  "hide_input": false,
  "kernelspec": {
   "display_name": "Python [conda env:dsx]",
   "language": "python",
   "name": "conda-env-dsx-py"
  },
  "language_info": {
   "codemirror_mode": {
    "name": "ipython",
    "version": 2
   },
   "file_extension": ".py",
   "mimetype": "text/x-python",
   "name": "python",
   "nbconvert_exporter": "python",
   "pygments_lexer": "ipython2",
   "version": "2.7.12"
  },
  "widgets": {
   "state": {
    "2982884ed6e04d6ebf5f93a2c62350ab": {
     "views": [
      {
       "cell_index": 5
      }
     ]
    }
   },
   "version": "1.2.0"
  }
 },
 "nbformat": 4,
 "nbformat_minor": 0
}
