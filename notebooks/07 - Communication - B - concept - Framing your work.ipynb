{
 "cells": [
  {
   "cell_type": "markdown",
   "metadata": {},
   "source": [
    "# Data Science Communication"
   ]
  },
  {
   "cell_type": "markdown",
   "metadata": {},
   "source": [
    "![](http://i51.tinypic.com/1zr25qt.jpg)"
   ]
  },
  {
   "cell_type": "code",
   "execution_count": 1,
   "metadata": {
    "collapsed": false
   },
   "outputs": [
    {
     "data": {
      "text/html": [
       "<style>\n",
       "\n",
       "@font-face {\n",
       "    font-family: 'Cooper Hewit' ;\n",
       "    src: url(utils/CooperHewitt-Medium.otf);\n",
       "}\n",
       "\n",
       "@font-face {\n",
       "    font-family: 'Cooper Hewit Bold' ;\n",
       "    src: url(utils/CooperHewitt-Bold.otf);\n",
       "}\n",
       "\n",
       "@font-face {\n",
       "    font-family: 'Cooper Hewit Light' ;\n",
       "    src: url(utils/CooperHewitt-Light.otf);\n",
       "}\n",
       "\n",
       ".container {\n",
       "    width:96% !important;\n",
       "    font-family: 'Cooper Hewit','Source Sans Pro', 'Open Sans', 'Helvetica', Sans;\n",
       "}\n",
       "\n",
       ".text_cell_render h1 {\n",
       "    text-align: center;\n",
       "    font-family: 'Cooper Hewit Light';\n",
       "    font-size: 52px;\n",
       "}\n",
       "\n",
       "strong {\n",
       "    font-weight: bold;\n",
       "}\n",
       "\n",
       "h2, h3 {\n",
       "    font-family: 'Cooper Hewit Bold' ;\n",
       "}\n",
       "\n",
       ".text_cell_render p,\n",
       ".text_cell_render h2,\n",
       ".text_cell_render h3,\n",
       ".text_cell_render h4,\n",
       ".text_cell_render ul,\n",
       ".text_cell_render ol,\n",
       ".text_cell_render table {\n",
       "    max-width: 860px;\n",
       "    margin: 0 auto;\n",
       "    line-height: 30px;\n",
       "}\n",
       "\n",
       ".text_cell_render p,\n",
       ".text_cell_render ul,\n",
       ".text_cell_render ol,\n",
       ".text_cell_render table {\n",
       "    font-family: 'Cooper Hewit' ;\n",
       "    font-size: 20px;\n",
       "    padding-bottom : 26px;\n",
       "}\n",
       "\n",
       ".text_cell_render h4 {\n",
       "    font-size: 20px;\n",
       "    text-align: center;\n",
       "}\n",
       "\n",
       ".text_cell.rendered .input_prompt {\n",
       "    display : none !important;\n",
       "}\n",
       "\n",
       ".text_cell_render table {\n",
       "    width: 860px;\n",
       "    margin: 26px auto;\n",
       "    text-align: center;\n",
       "}\n",
       "\n",
       ".text_cell_render td,\n",
       ".text_cell_render th {\n",
       "    padding: 8px;\n",
       "    text-align: center;\n",
       "}\n",
       "\n",
       ".text_cell_render table thead {\n",
       "    background-color: #333;\n",
       "    color: white;\n",
       "    font-family: 'Cooper Hewit Light';\n",
       "    text-align: center;\n",
       "}\n",
       "\n",
       ".CodeMirror {\n",
       "    padding: 8px 20px;\n",
       "}\n",
       ".CodeMirror pre {\n",
       "    font-size: 20px;\n",
       "    line-height: 28px;\n",
       "}\n",
       "\n",
       "div.output_text pre {\n",
       "    color: #333;\n",
       "    font-size: 18px;\n",
       "    line-height: 26px;\n",
       "}\n",
       ".output_png img{\n",
       "    margin: 0 auto;\n",
       "    margin-top: 12px;\n",
       "    display: block;\n",
       "    min-width: 600px;\n",
       "}\n",
       "\n",
       ".rendered_html blockquote cite:before {\n",
       "    content: '— ';\n",
       "}\n",
       ".rendered_html blockquote p:before {\n",
       "    content: \"“\";\n",
       "    font-size: 160px;\n",
       "    color: rgba(218, 218, 218, 0.68);\n",
       "    position: relative;\n",
       "    margin-left: -72px;\n",
       "    top: 32px;\n",
       "    left: 37px;\n",
       "    font-family: Cooper Hewitt Bold;\n",
       "    z-index: 0;\n",
       "}\n",
       ".rendered_html blockquote {\n",
       "    clear: both;\n",
       "    border: none;\n",
       "}\n",
       "\n",
       ".rendered_html blockquote p:after {\n",
       "    visibility: hidden;\n",
       "    display: block;\n",
       "    content: \"\";\n",
       "    clear: both;\n",
       "    height: 0;\n",
       "\n",
       "}\n",
       "\n",
       ".rendered_html blockquote cite {\n",
       "    display: block;\n",
       "    padding-left: 30%;\n",
       "    padding-right: 10%;\n",
       "    text-align: right;\n",
       "    margin-top: 12px;\n",
       "}\n",
       "\n",
       "li > * > li {\n",
       "    margin-left: 24px;\n",
       "    line-height: 30px;\n",
       "}\n",
       "\n",
       ".rendered_html li {\n",
       "    padding-bottom: 12px;\n",
       "    padding-left: 12px;\n",
       "    margin-left: 20px;\n",
       "}\n",
       "\n",
       "li > ul,\n",
       "li > ol {\n",
       "    margin-top: 12px !important;\n",
       "    padding-bottom: 0px !important;\n",
       "}\n",
       "\n",
       ".rendered_html strong {\n",
       "    font-family: 'Cooper Hewit Bold';\n",
       "    color: #007eff;\n",
       "}\n",
       "\n",
       "</style>"
      ],
      "text/plain": [
       "<IPython.core.display.HTML object>"
      ]
     },
     "metadata": {},
     "output_type": "display_data"
    }
   ],
   "source": [
    "# %load utils/imports.py\n",
    "from utils.styles import *"
   ]
  },
  {
   "cell_type": "markdown",
   "metadata": {},
   "source": [
    "# Framing your Work"
   ]
  },
  {
   "cell_type": "markdown",
   "metadata": {},
   "source": [
    "Now that you’ve got yourself in the right frame of mind―you can see the forest and you know the trees―you’re ready to start thinking about the content of your report. However, before you start furiously spilling ink, first remind yourself of the three elements required to ask an askable question in science:"
   ]
  },
  {
   "cell_type": "markdown",
   "metadata": {},
   "source": [
    "1. The question itself along with some justification of how it addresses your objectives\n",
    "1. A hypothesis\n",
    "1. A feasible methodology for addressing your question"
   ]
  },
  {
   "cell_type": "markdown",
   "metadata": {},
   "source": [
    "Much as I implore you to consider who your audience is and what your objectives are in order to get your mind in the right place, I’m recommending that you have the answers to these three things ready because they will dictate the content of your report. You don’t want to throw everything and the kitchen sink into a report!"
   ]
  },
  {
   "cell_type": "markdown",
   "metadata": {},
   "source": [
    "## What’s the question?"
   ]
  },
  {
   "cell_type": "markdown",
   "metadata": {},
   "source": [
    "The challenge is to come up with one on your own or work within the business objectives of your employer. At this point, you make sure that you can appropriately state the question and how it relates to your objective(s)."
   ]
  },
  {
   "cell_type": "markdown",
   "metadata": {},
   "source": [
    "## What's the answer?"
   ]
  },
  {
   "cell_type": "markdown",
   "metadata": {},
   "source": [
    "Now that you have your question, what do you think the answer will be? It’s good practice, of course, to consider what the possible answers may be before you dig into the data, so hopefully you’ve already done that! Clearly delimiting the hypothesis space at this point will guide the evidence and arguments you use in the body of your report. It will be easier to evaluate what constitutes weak and strong support of your theory and what analyses may be absolutely irrelevant. Ultimately you will prevent yourself from attacking straw men in faux support of your theory."
   ]
  },
  {
   "cell_type": "markdown",
   "metadata": {},
   "source": [
    "## What’s your methodology?"
   ]
  },
  {
   "cell_type": "markdown",
   "metadata": {},
   "source": [
    "Let’s say you’re asking whether Twitter users with dense social networks in the _How ISIS Uses Twitter_ dataset express greater negative sentiment than users with less dense networks.\n",
    "\n",
    "1. Your first step is to confirm that the data available is sufficient to address your research question. If there’s major missing information, you may want to rethink your question, revise your methodology, or even collect new data."
   ]
  },
  {
   "cell_type": "markdown",
   "metadata": {},
   "source": [
    "If you’re unsure of how to to express a particular methodology in language, this is a good opportunity to flex your search skills. Search for “social network analysis in r” or “sentiment analysis in python.” Dive into some academic papers if it's appropriate and see how it's presented. "
   ]
  },
  {
   "cell_type": "markdown",
   "metadata": {},
   "source": [
    "![](http://5047-presscdn.pagely.netdna-cdn.com/wp-content/uploads/2016/06/hilary-network.png)"
   ]
  },
  {
   "cell_type": "markdown",
   "metadata": {},
   "source": [
    "Even if you don’t end up needing to share every nuance of your methodology with your given audience, you should always document your work thoroughly to the extent possible. Once you’re ready to present your analysis, you’ll be capable of determining how much is the right amount to share when discussing the nitty gritty mechanics of your model. Similarly, you'll be able to pleasantly surprise your boss many times because you have an answer ready at-hand for immediate questions thanks to keeping your exploratory analyses well-documented."
   ]
  },
  {
   "cell_type": "markdown",
   "metadata": {},
   "source": [
    "## Putting the pieces together"
   ]
  },
  {
   "cell_type": "markdown",
   "metadata": {},
   "source": [
    "Finally, you’re ready to write. Keep in mind that a good analysis should facilitate its own interpretation as much as possible. Again, this requires anticipating what information your likely audience will be seeking and what knowledge they’re coming in with already. One method which is both tried-and-true and friendly to the academic nature of the discipline is following a template for your analysis. With that, this section covers the structure which when fleshed out will help you tell the story in the data."
   ]
  },
  {
   "cell_type": "markdown",
   "metadata": {},
   "source": [
    "> Keep in mind that a good analysis should facilitate its own interpretation as much as possible."
   ]
  },
  {
   "cell_type": "markdown",
   "metadata": {},
   "source": [
    "## Step 1 : Setting up your presentation ..."
   ]
  },
  {
   "cell_type": "markdown",
   "metadata": {},
   "source": [
    "Make it easy for your audience to quickly determine what they’re about to digest. Use an abstract or introduction to recall your objectives and clearly state them for your readers or listeners. What is the problem that you’ve set out to solve? If you have a desired outcome or any expectations of your audience, say it, as this is the entire reason you’re presenting them with your analysis.\n",
    "\n",
    "You then cover everything discussed above in this section: the question you’ve been on a mission to answer, your hypothesis, and the methodology you’ve used.\n",
    "\n",
    "Finally, you will often provide a high level summary of your results and key findings. Don’t worry about spoiler alerts or boring your readers and listeners to death. Trust that if they pay attention past the introduction that they are interested in how you achieve what you claim you have."
   ]
  },
  {
   "cell_type": "markdown",
   "metadata": {},
   "source": [
    "## Step 2 : The content ..."
   ]
  },
  {
   "cell_type": "markdown",
   "metadata": {},
   "source": [
    "This is where you get to the good parts. You've laid the foundation for your analysis such that your audience is prepared to read or listen intently to your story. Of course we can't go into details here about what you would say, as that would closely depend on the specifics of your work, but let's see how you can structure it."
   ]
  },
  {
   "cell_type": "markdown",
   "metadata": {},
   "source": [
    "#### Take your analysis in small bits by breaking your question into subparts."
   ]
  },
  {
   "cell_type": "markdown",
   "metadata": {},
   "source": [
    "For a data-driven analysis, it can make sense to tackle each piece of evidence one-by-one. You may have a dissertation’s worth of data to report on, but more likely than not you must pick and choose what will best support your analysis succinctly and effectively. Again, having the objectives and audience in mind will help you decide what’s critical. Lay it all out before you and pair sub-questions with evidence until you have a story."
   ]
  },
  {
   "cell_type": "markdown",
   "metadata": {},
   "source": [
    "#### Once you’ve presented the evidence, explain why it supports (or doesn't support) your hypothesis or your objectives."
   ]
  },
  {
   "cell_type": "markdown",
   "metadata": {},
   "source": [
    "A good analysis also considers alternative hypotheses or interpretations as well. You’ve already surveyed the hypothesis space, so you should be ready-armed to handle contrary evidence. Doing so is also a way of anticipating the expectations of your audience and the skepticism they may harbor. It’s at this point that it’s most critical to keep in mind your objectives and the question you’re addressing with your analysis. Ask how every piece of evidence you offer takes you one step closer to confirming or disproving your hypothesis."
   ]
  },
  {
   "cell_type": "markdown",
   "metadata": {},
   "source": [
    "## Step 3 : Improve your presentation with the following tricks"
   ]
  },
  {
   "cell_type": "markdown",
   "metadata": {},
   "source": [
    "#### Visualize the problem"
   ]
  },
  {
   "cell_type": "markdown",
   "metadata": {},
   "source": [
    "If you can plainly “state” something with a graph or chart, go for it!"
   ]
  },
  {
   "cell_type": "markdown",
   "metadata": {},
   "source": [
    "![](http://5047-presscdn.pagely.netdna-cdn.com/wp-content/uploads/2016/06/WoW-visualization-800x400.png)"
   ]
  },
  {
   "cell_type": "markdown",
   "metadata": {},
   "source": [
    "\n",
    "Example which uses polar coordinates to show the times during the day leveling and non-leveling characters play World of Warcraft."
   ]
  },
  {
   "cell_type": "markdown",
   "metadata": {},
   "source": [
    "![](http://5047-presscdn.pagely.netdna-cdn.com/wp-content/uploads/2016/06/formattable-800x400-1.png)"
   ]
  },
  {
   "cell_type": "markdown",
   "metadata": {},
   "source": [
    "Example which uses color and variations in transparency to make this table of percentages more readily interpretable.\n"
   ]
  },
  {
   "cell_type": "markdown",
   "metadata": {},
   "source": [
    "![](http://5047-presscdn.pagely.netdna-cdn.com/wp-content/uploads/2016/06/confusion_matrix-800x400.png)"
   ]
  },
  {
   "cell_type": "markdown",
   "metadata": {},
   "source": [
    "Example whihc visualizes confusion matrices to evaluate and compare model performance."
   ]
  },
  {
   "cell_type": "markdown",
   "metadata": {},
   "source": [
    "![](http://5047-presscdn.pagely.netdna-cdn.com/wp-content/uploads/2016/06/Carbon-Visualization-800x400.png)"
   ]
  },
  {
   "cell_type": "markdown",
   "metadata": {},
   "source": [
    "Example which shows the steady rise of carbon emissions in the Philippines.\n"
   ]
  },
  {
   "cell_type": "markdown",
   "metadata": {},
   "source": [
    "#### Variety is the spice of life."
   ]
  },
  {
   "cell_type": "markdown",
   "metadata": {},
   "source": [
    "And it can liven up your writing (and speaking) as well. For example, use a mix of short and sweet sentences interspersed among longer, more elaborate ones. Find where you accidentally used the word “opportunity” six times on one page and change it up! Related to the previous point, use effective variety in types of visualizations you employ. Small things like this will keep your readers awake and interested."
   ]
  },
  {
   "cell_type": "markdown",
   "metadata": {},
   "source": [
    "#### Check your work"
   ]
  },
  {
   "cell_type": "markdown",
   "metadata": {},
   "source": [
    "Make sure your writing is grammatical, fluent, and free of typos. For better or worse, trivial mistakes can discredit you in the eyes of many. It helps to read your writing aloud to catch disfluencies."
   ]
  },
  {
   "cell_type": "markdown",
   "metadata": {},
   "source": [
    "#### Grow your language muscle!"
   ]
  },
  {
   "cell_type": "markdown",
   "metadata": {},
   "source": [
    " If you really struggle with transforming your analysis into a form that can be shared more broadly, begin by writing anything until writing prose feels as natural as writing code. For example, we actually suggest sitting down and copying a report word-for-word. Or even any instance of persuasive writing. This can help to remove one more unknown from the equation: what it literally feels like to go through the motions of stringing words and sentences and paragraphs together to tell a story."
   ]
  },
  {
   "cell_type": "markdown",
   "metadata": {},
   "source": [
    "## Step 4 : Conclusion ..."
   ]
  },
  {
   "cell_type": "markdown",
   "metadata": {},
   "source": [
    "A good analysis is repetitive. You know the intricacies of your work in and out, but your audience does not. You’ve told your readers or listeners in your introduction what you had ventured to do and even what you end up finding and the content lays this all out for them. In the conclusions section you hit them with it again. At this point, they’ve seen the relevant data you’ve carefully chosen to support your theory so it’s time to formally draw your conclusions. Your readers or listeners can decide if they agree or not."
   ]
  },
  {
   "cell_type": "markdown",
   "metadata": {},
   "source": [
    "Speaking of being repetitive, after making your conclusions, you again remind your readers or listeners of the objective(s) of this report / presentation. Restate them again and help your audience help you :\n",
    "\n",
    "* what do you expect now?\n",
    "* What feedback would you like?\n",
    "* What decision-making can happen now that your report is presented and the insights have been shared? "
   ]
  },
  {
   "cell_type": "markdown",
   "metadata": {},
   "source": [
    "## Practice"
   ]
  },
  {
   "cell_type": "markdown",
   "metadata": {},
   "source": [
    "Look at [Kaggle Kernels](https://www.kaggle.com/kernels?language=Python&outputType=Notebook), each pick a notebook, and think of additional questions to ask of the dataset. "
   ]
  }
 ],
 "metadata": {
  "anaconda-cloud": {},
  "hide_input": false,
  "kernelspec": {
   "display_name": "Python [default]",
   "language": "python",
   "name": "python3"
  },
  "language_info": {
   "codemirror_mode": {
    "name": "ipython",
    "version": 3
   },
   "file_extension": ".py",
   "mimetype": "text/x-python",
   "name": "python",
   "nbconvert_exporter": "python",
   "pygments_lexer": "ipython3",
   "version": "3.5.2"
  }
 },
 "nbformat": 4,
 "nbformat_minor": 0
}
